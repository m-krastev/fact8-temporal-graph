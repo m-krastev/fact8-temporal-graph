{
 "cells": [
  {
   "cell_type": "code",
   "execution_count": 3,
   "metadata": {},
   "outputs": [
    {
     "name": "stdout",
     "output_type": "stream",
     "text": [
      "(7048,)\n",
      "(346088,)\n",
      "(346088,)\n",
      "(346088,)\n"
     ]
    }
   ],
   "source": [
    "import numpy as np\n",
    "import pandas as pd\n",
    "\n",
    "MOOC_edges = pd.read_csv(\"./new_dir/DATA/MOOC/edges.csv\", index_col=0)\n",
    "MOOC_ext_full = np.load(\"./new_dir/DATA/MOOC/int_train.npz\")\n",
    "\n",
    "for i in ['indptr', 'indices', 'ts', 'eid']:\n",
    "\n",
    "    print(MOOC_ext_full[i].shape)"
   ]
  },
  {
   "cell_type": "code",
   "execution_count": 15,
   "metadata": {},
   "outputs": [
    {
     "data": {
      "text/plain": [
       "array([[ 0.49277036, -0.69036051,  1.34358778,  1.54337125],\n",
       "       [-0.47879322, -1.11126717, -0.46390797,  1.23420109],\n",
       "       [ 0.55225519, -0.70049968,  1.12268004, -2.12257938],\n",
       "       ...,\n",
       "       [ 0.02733296,  0.98931901,  0.19821423, -1.06424055],\n",
       "       [ 0.38313002,  1.13750433, -1.96857973,  0.77038375],\n",
       "       [-0.12718611, -2.66271972,  0.30175013, -0.70065818]])"
      ]
     },
     "metadata": {},
     "output_type": "display_data"
    }
   ],
   "source": [
    "def prepare_data_mooc(df: pd.DataFrame):\n",
    "    df = df.rename(columns={\"src\": \"u\", \"dst\": \"i\", \"time\": \"ts\", \"ext_roll\":\"label\"})\n",
    "    df[\"label\"] -= 1\n",
    "    \n",
    "    df['u'] = df['u'].astype(int)\n",
    "    df['i'] = df['i'].astype(int)\n",
    "\n",
    "    df.insert(len(df.columns), \"idx\", range(df.shape[0]))\n",
    "    df.insert(len(df.columns), \"e_idx\", range(df.shape[0]))\n",
    "\n",
    "    df = df.drop(columns=\"int_roll\")\n",
    "    return df\n",
    "\n",
    "\n",
    "ml_mooc = prepare_data_mooc(MOOC_edges)\n",
    "ml_mooc.to_csv( \"./tgnnexplainer/xgraph/models/ext/tgat/processed/ml_mooc.csv\", index=False)\n",
    "\n",
    "\n",
    "ml_mooc_features = np.random.randn(len(ml_mooc), 4)\n",
    "np.save(\n",
    "    \"./tgnnexplainer/xgraph/models/ext/tgat/processed/ml_mooc_node.npy\",\n",
    "    ml_mooc_features,\n",
    ")\n",
    "\n",
    "ml_mooc_features = np.random.randn(len(ml_mooc), 4)\n",
    "display(ml_mooc_features)\n",
    "np.save(\n",
    "    \"./tgnnexplainer/xgraph/models/ext/tgat/processed/ml_mooc.npy\", ml_mooc_features\n",
    ")"
   ]
  }
 ],
 "metadata": {
  "kernelspec": {
   "display_name": "mlkit",
   "language": "python",
   "name": "python3"
  },
  "language_info": {
   "codemirror_mode": {
    "name": "ipython",
    "version": 3
   },
   "file_extension": ".py",
   "mimetype": "text/x-python",
   "name": "python",
   "nbconvert_exporter": "python",
   "pygments_lexer": "ipython3",
   "version": "3.11.5"
  }
 },
 "nbformat": 4,
 "nbformat_minor": 2
}
